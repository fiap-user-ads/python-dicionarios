{
 "cells": [
  {
   "attachments": {},
   "cell_type": "markdown",
   "metadata": {},
   "source": [
    "### Dicionários\n",
    "Dicionários são estruturas de dados compostas por keys(campos) e values(valores/conteudo).\n",
    "Em dicionários, todos os valores são delimitados entre chaves e as keys são separadas dos vales\n",
    "com dois pontos(:)"
   ]
  },
  {
   "cell_type": "code",
   "execution_count": null,
   "metadata": {},
   "outputs": [],
   "source": [
    "# Criando dicionário\n",
    "\n",
    "dados = dict()\n",
    "# ou \n",
    "dados = {}\n",
    "print(dados)"
   ]
  },
  {
   "cell_type": "code",
   "execution_count": 1,
   "metadata": {},
   "outputs": [
    {
     "name": "stdout",
     "output_type": "stream",
     "text": [
      "{'nome': 'Erick', 'idade': 18}\n"
     ]
    }
   ],
   "source": [
    "# Criando dicionário com valores iniciais\n",
    "\n",
    "dados = {\n",
    "    \"nome\": \"Erick\",\n",
    "    \"idade\": 18\n",
    "}\n",
    "\n",
    "print(dados)"
   ]
  },
  {
   "cell_type": "code",
   "execution_count": 2,
   "metadata": {},
   "outputs": [
    {
     "name": "stdout",
     "output_type": "stream",
     "text": [
      "{'nome': 'Erick', 'idade': 18}\n",
      "{'nome': 'Erick', 'idade': 18, 'email': 'erick@email.com'}\n"
     ]
    }
   ],
   "source": [
    "# Acrescentando campos\n",
    "\n",
    "print(dados)\n",
    "dados[\"email\"] = \"erick@email.com\"\n",
    "print(dados)"
   ]
  },
  {
   "cell_type": "code",
   "execution_count": 3,
   "metadata": {},
   "outputs": [
    {
     "name": "stdout",
     "output_type": "stream",
     "text": [
      "{'nome': 'Erick', 'idade': 18, 'email': 'erick@email.com'}\n",
      "{'nome': 'Erick', 'idade': 18}\n"
     ]
    }
   ],
   "source": [
    "# Removendo campos\n",
    "\n",
    "print(dados)\n",
    "del dados[\"email\"]\n",
    "print(dados)"
   ]
  },
  {
   "attachments": {},
   "cell_type": "markdown",
   "metadata": {},
   "source": [
    "#### Metodos relacionados a dicionários"
   ]
  },
  {
   "cell_type": "code",
   "execution_count": 6,
   "metadata": {},
   "outputs": [
    {
     "name": "stdout",
     "output_type": "stream",
     "text": [
      "dict_values(['Erick', 18])\n",
      "Erick\n"
     ]
    }
   ],
   "source": [
    "# values() \n",
    "# > mostra todos os valores contido em um dicionário\n",
    "\n",
    "print(dados.values())\n",
    "\n",
    "lista = list(dados.values())\n",
    "print(lista[0])\n"
   ]
  },
  {
   "cell_type": "code",
   "execution_count": 7,
   "metadata": {},
   "outputs": [
    {
     "name": "stdout",
     "output_type": "stream",
     "text": [
      "dict_keys(['nome', 'idade'])\n"
     ]
    }
   ],
   "source": [
    "# keys() \n",
    "# > mostra todos os campos contido em um dicionário\n",
    "\n",
    "print(dados.keys())"
   ]
  },
  {
   "cell_type": "code",
   "execution_count": 12,
   "metadata": {},
   "outputs": [
    {
     "name": "stdout",
     "output_type": "stream",
     "text": [
      "dict_items([('nome', 'Erick'), ('idade', 18)])\n",
      "nome: Erick\n",
      "idade: 18\n"
     ]
    }
   ],
   "source": [
    "# items() \n",
    "# > mostra tudo de um dicionário\n",
    "\n",
    "print(dados.items())\n",
    "\n",
    "for k, v in dados.items():\n",
    "    print(f\"{k}: {v}\")"
   ]
  },
  {
   "attachments": {},
   "cell_type": "markdown",
   "metadata": {},
   "source": [
    "#### Exercícios"
   ]
  },
  {
   "cell_type": "code",
   "execution_count": 3,
   "metadata": {},
   "outputs": [],
   "source": [
    "lista_aluno = {\n",
    "    \"nome\": \"Erick\",\n",
    "    \"idade\": 18,\n",
    "    \"rm\": 550371,\n",
    "    \"email\": \"erick@email.com\",\n",
    "    \"altura\": 169.5\n",
    "}"
   ]
  },
  {
   "cell_type": "code",
   "execution_count": 4,
   "metadata": {},
   "outputs": [
    {
     "name": "stdout",
     "output_type": "stream",
     "text": [
      "nome: Erick\n",
      "idade: 18\n",
      "rm: 550371\n",
      "email: erick@email.com\n",
      "altura: 169.5\n"
     ]
    }
   ],
   "source": [
    "# 01. Exibir todo o conteudo do disc.\n",
    "\n",
    "def exibir_tudo(lista: list) -> None:\n",
    "    for coluna, valor in lista.items():\n",
    "        print(f\"{coluna}: {valor}\")\n",
    "\n",
    "exibir_tudo(lista_aluno)"
   ]
  },
  {
   "cell_type": "code",
   "execution_count": 5,
   "metadata": {},
   "outputs": [
    {
     "name": "stdout",
     "output_type": "stream",
     "text": [
      "{'nome': 'Erick', 'idade': 18, 'rm': 550371, 'email': 'erick@email.com', 'altura': 169.5, 'peso': '60'}\n"
     ]
    }
   ],
   "source": [
    "# 02. Inserir um campo no disc.\n",
    "\n",
    "def adicionar_campo(lista: list) -> None:\n",
    "    coluna = input(\"Nome do campo: \")\n",
    "    valor = input(\"Item da coluna: \")\n",
    "    lista[coluna] = valor\n",
    "\n",
    "    print(lista)\n",
    "\n",
    "adicionar_campo(lista_aluno) "
   ]
  },
  {
   "cell_type": "code",
   "execution_count": 16,
   "metadata": {},
   "outputs": [
    {
     "name": "stdout",
     "output_type": "stream",
     "text": [
      "{'nome': 'erick', 'idade': 18, 'rm': '550371', 'email': 'erick@email.com', 'altura': 169.5}\n"
     ]
    }
   ],
   "source": [
    "# 03. Alterar o valor de um campo.\n",
    "\n",
    "def alterar_valor(lista: list) -> None:\n",
    "    coluna = input(\"Nome do campo que contem o valor: \")\n",
    "    valor = input(\"Para qual valor quer alterar\")\n",
    "\n",
    "    lista[coluna] = valor\n",
    "    print(lista)\n",
    "\n",
    "alterar_valor(lista_aluno)    "
   ]
  },
  {
   "cell_type": "code",
   "execution_count": 9,
   "metadata": {},
   "outputs": [
    {
     "name": "stdout",
     "output_type": "stream",
     "text": [
      "rm: 550371\n"
     ]
    }
   ],
   "source": [
    "# 04. Exibir um campo especifico\n",
    "\n",
    "def exibir_campo(lista: list) -> None:\n",
    "    coluna = input(\"Digite o nome da coluna que queira ver os valores: \")\n",
    "\n",
    "    print(f\"{coluna}: {lista[coluna]}\")\n",
    "\n",
    "exibir_campo(lista_aluno)"
   ]
  },
  {
   "cell_type": "code",
   "execution_count": 14,
   "metadata": {},
   "outputs": [
    {
     "name": "stdout",
     "output_type": "stream",
     "text": [
      "{'nome': 'asdasda', 'idade': 18, 'rm': '888888', 'email': 'erick@email.com', 'altura': 169.5}\n"
     ]
    }
   ],
   "source": [
    "# 05. Remover um campo especifico\n",
    "\n",
    "def remover_campo(lista: list) -> None:\n",
    "    coluna = input(\"Nome do campo que queria remover: \")\n",
    "\n",
    "    del lista[coluna]\n",
    "    print(lista)\n",
    "\n",
    "remover_campo(lista_aluno)"
   ]
  }
 ],
 "metadata": {
  "kernelspec": {
   "display_name": "Python 3",
   "language": "python",
   "name": "python3"
  },
  "language_info": {
   "codemirror_mode": {
    "name": "ipython",
    "version": 3
   },
   "file_extension": ".py",
   "mimetype": "text/x-python",
   "name": "python",
   "nbconvert_exporter": "python",
   "pygments_lexer": "ipython3",
   "version": "3.11.4"
  },
  "orig_nbformat": 4
 },
 "nbformat": 4,
 "nbformat_minor": 2
}
